{
  "nbformat": 4,
  "nbformat_minor": 0,
  "metadata": {
    "colab": {
      "provenance": []
    },
    "kernelspec": {
      "name": "python3",
      "display_name": "Python 3"
    },
    "language_info": {
      "name": "python"
    }
  },
  "cells": [
    {
      "cell_type": "markdown",
      "source": [
        "1. **Write a program that calculates and prints the value according to the given formula:**\n",
        "\n",
        "Q = Square root of [(2 * C * D)/H]\n",
        "\n",
        "Following are the fixed values of C and H:\n",
        "\n",
        "C is 50. H is 30.\n",
        "\n",
        "D is the variable whose values should be input to your program in a comma-separated sequence.\n",
        "\n",
        "\n",
        "Example\n",
        "\n",
        "Let us assume the following comma separated input sequence is given to the program:\n",
        "\n",
        "100,150,180\n",
        "\n",
        "The output of the program should be:\n",
        "\n",
        "18,22,24"
      ],
      "metadata": {
        "id": "HvqWj1P2IOgH"
      }
    },
    {
      "cell_type": "code",
      "source": [
        "import math\n",
        "\n",
        "def calculate_q(D_values):\n",
        "    C = 50\n",
        "    H = 30\n",
        "    results = []\n",
        "\n",
        "    for D in D_values:\n",
        "        # Calculate Q = sqrt((2 * C * D) / H)\n",
        "        Q = math.sqrt((2 * C * int(D)) / H)\n",
        "        # Round to nearest integer as shown in example\n",
        "        results.append(str(round(Q)))\n",
        "\n",
        "    return results\n",
        "\n",
        "# Get input from user\n",
        "input_str = input(\"Enter comma-separated D values: \")\n",
        "\n",
        "# Split the input string into individual D values\n",
        "D_values = input_str.split(',')\n",
        "\n",
        "# Calculate the results\n",
        "output = calculate_q(D_values)\n",
        "\n",
        "# Print the comma-separated results\n",
        "print(','.join(output))"
      ],
      "metadata": {
        "id": "YA8gKbLWJ4IL"
      },
      "execution_count": null,
      "outputs": []
    },
    {
      "cell_type": "markdown",
      "source": [
        "Alternative more concise version:"
      ],
      "metadata": {
        "id": "EYNq2n-7J-H8"
      }
    },
    {
      "cell_type": "code",
      "source": [
        "import math\n",
        "\n",
        "C = 50\n",
        "H = 30\n",
        "\n",
        "# Get input and process in one line\n",
        "D_values = input(\"Enter comma-separated D values: \").split(',')\n",
        "\n",
        "# Calculate results using list comprehension\n",
        "results = [str(round(math.sqrt((2 * C * int(D)) / H))) for D in D_values]\n",
        "\n",
        "# Output as comma-separated string\n",
        "print(','.join(results))"
      ],
      "metadata": {
        "colab": {
          "base_uri": "https://localhost:8080/"
        },
        "id": "o7qPcoUKJ_EN",
        "outputId": "e71c5ed5-c208-436f-8fde-8c1ad3598b3d"
      },
      "execution_count": 2,
      "outputs": [
        {
          "output_type": "stream",
          "name": "stdout",
          "text": [
            "Enter comma-separated D values: 100,50,20\n",
            "18,13,8\n"
          ]
        }
      ]
    },
    {
      "cell_type": "markdown",
      "source": [
        "2. **Write a program which takes 2 digits, X,Y as input and generates a 2-dimensional array. The element value in the i-th row and j-th column of the array should be i*j.**\n",
        "\n",
        "\n",
        "Note: i=0,1.., X-1; j=0,1,¡Y-1.\n",
        "\n",
        "Example\n",
        "\n",
        "Suppose the following inputs are given to the program:\n",
        "3,5\n",
        "\n",
        "Then, the output of the program should be:\n",
        "\n",
        "[[0, 0, 0, 0, 0], [0, 1, 2, 3, 4], [0, 2, 4, 6, 8]]"
      ],
      "metadata": {
        "id": "D7i4yJGjKTv7"
      }
    },
    {
      "cell_type": "code",
      "source": [
        "def generate_2d_array(X, Y):\n",
        "    # Create a 2D array using nested list comprehension\n",
        "    # i ranges from 0 to X-1, j ranges from 0 to Y-1\n",
        "    array = [[i * j for j in range(Y)] for i in range(X)]\n",
        "    return array\n",
        "\n",
        "# Get input from user\n",
        "input_str = input(\"Enter two digits X,Y (comma-separated): \")\n",
        "\n",
        "# Split and convert to integers\n",
        "X, Y = map(int, input_str.split(','))\n",
        "\n",
        "# Generate the 2D array\n",
        "result = generate_2d_array(X, Y)\n",
        "\n",
        "# Print the result\n",
        "print(result)"
      ],
      "metadata": {
        "colab": {
          "base_uri": "https://localhost:8080/"
        },
        "id": "UijTLhIAKiAJ",
        "outputId": "8b078169-8de1-4e08-d028-912ccdff73cd"
      },
      "execution_count": 3,
      "outputs": [
        {
          "output_type": "stream",
          "name": "stdout",
          "text": [
            "Enter two digits X,Y (comma-separated): 2,5\n",
            "[[0, 0, 0, 0, 0], [0, 1, 2, 3, 4]]\n"
          ]
        }
      ]
    },
    {
      "cell_type": "markdown",
      "source": [
        "3. **Write a program that accepts a comma separated sequence of words as input and prints the words in a comma-separated sequence after sorting them alphabetically.**\n",
        "\n",
        "\n",
        "Suppose the following input is supplied to the program:\n",
        "\n",
        "without,hello,bag,world\n",
        "\n",
        "Then, the output should be:\n",
        "\n",
        "bag,hello,without,world"
      ],
      "metadata": {
        "id": "GbLrb-o_LLSW"
      }
    },
    {
      "cell_type": "code",
      "source": [
        "def sort_words(input_str):\n",
        "    # Split the input string into individual words\n",
        "    words = input_str.split(',')\n",
        "\n",
        "    # Sort the words alphabetically\n",
        "    words.sort()\n",
        "\n",
        "    # Join the sorted words back into a comma-separated string\n",
        "    return ','.join(words)\n",
        "\n",
        "# Get input from user\n",
        "input_str = input(\"Enter comma-separated words: \")\n",
        "\n",
        "# Sort the words\n",
        "result = sort_words(input_str)\n",
        "\n",
        "# Print the sorted result\n",
        "print(result)"
      ],
      "metadata": {
        "colab": {
          "base_uri": "https://localhost:8080/"
        },
        "id": "x_bnn66ILkkx",
        "outputId": "ada20831-2191-4085-ce56-8e3e48a8849d"
      },
      "execution_count": 4,
      "outputs": [
        {
          "output_type": "stream",
          "name": "stdout",
          "text": [
            "Enter comma-separated words: without, hi, hello\n",
            " hello, hi,without\n"
          ]
        }
      ]
    },
    {
      "cell_type": "markdown",
      "source": [
        "4. **Write a program that accepts a sequence of whitespace separated words as input and prints the words after removing all duplicate words and sorting them alphanumerically.**\n",
        "\n",
        "Suppose the following input is supplied to the program:\n",
        "\n",
        "hello world and practice makes perfect and hello world again\n",
        "\n",
        "Then, the output should be:\n",
        "\n",
        "again and hello makes perfect practice world"
      ],
      "metadata": {
        "id": "Lp95NwvAL4HX"
      }
    },
    {
      "cell_type": "code",
      "source": [
        "def process_words(input_str):\n",
        "    # Split the input string into individual words (whitespace separated)\n",
        "    words = input_str.split()\n",
        "\n",
        "    # Remove duplicates by converting to a set, then back to list\n",
        "    unique_words = list(set(words))\n",
        "\n",
        "    # Sort the unique words alphanumerically\n",
        "    unique_words.sort()\n",
        "\n",
        "    # Join the sorted words back into a space-separated string\n",
        "    return ' '.join(unique_words)\n",
        "\n",
        "# Get input from user\n",
        "input_str = input(\"Enter whitespace separated words: \")\n",
        "\n",
        "# Process the words\n",
        "result = process_words(input_str)\n",
        "\n",
        "# Print the result\n",
        "print(result)"
      ],
      "metadata": {
        "colab": {
          "base_uri": "https://localhost:8080/"
        },
        "id": "RQb1Xjf4MXXw",
        "outputId": "150fddab-837c-4ae5-e9ac-7fae244cbfb3"
      },
      "execution_count": 5,
      "outputs": [
        {
          "output_type": "stream",
          "name": "stdout",
          "text": [
            "Enter whitespace separated words: hello world and practice makes perfect and hello world again again and hello makes perfect practice world\n",
            "again and hello makes perfect practice world\n"
          ]
        }
      ]
    },
    {
      "cell_type": "markdown",
      "source": [
        "5. **Write a program that accepts a sentence and calculate the number of letters and digits.**\n",
        "\n",
        "Suppose the following input is supplied to the program:\n",
        "\n",
        "hello world! 123\n",
        "\n",
        "Then, the output should be:\n",
        "\n",
        "LETTERS 10\n",
        "\n",
        "DIGITS 3"
      ],
      "metadata": {
        "id": "5WHX1FNkM16O"
      }
    },
    {
      "cell_type": "code",
      "source": [
        "def count_letters_digits(sentence):\n",
        "    letters = 0\n",
        "    digits = 0\n",
        "\n",
        "    for char in sentence:\n",
        "        if char.isalpha():\n",
        "            letters += 1\n",
        "        elif char.isdigit():\n",
        "            digits += 1\n",
        "\n",
        "    return letters, digits\n",
        "\n",
        "# Get input from user\n",
        "sentence = input(\"Enter a sentence: \")\n",
        "\n",
        "# Count letters and digits\n",
        "letter_count, digit_count = count_letters_digits(sentence)\n",
        "\n",
        "# Print the results\n",
        "print(f\"LETTERS {letter_count}\")\n",
        "print(f\"DIGITS {digit_count}\")"
      ],
      "metadata": {
        "colab": {
          "base_uri": "https://localhost:8080/"
        },
        "id": "O5JTsnIVNElF",
        "outputId": "36bbc1ec-ecbf-4676-e62c-22a9f4d96859"
      },
      "execution_count": 6,
      "outputs": [
        {
          "output_type": "stream",
          "name": "stdout",
          "text": [
            "Enter a sentence: hello ram 1234\n",
            "LETTERS 8\n",
            "DIGITS 4\n"
          ]
        }
      ]
    },
    {
      "cell_type": "markdown",
      "source": [
        "6. **A website requires the users to input username and password to register. Write a program to check the validity of password input by users.**\n",
        "\n",
        "Following are the criteria for checking the password:\n",
        "\n",
        "1. At least 1 letter between [a-z]\n",
        "\n",
        "2. At least 1 number between [0-9]\n",
        "\n",
        "1. At least 1 letter between [A-Z]\n",
        "\n",
        "3. At least 1 character from [$#@]\n",
        "\n",
        "4. Minimum length of transaction password: 6\n",
        "\n",
        "5. Maximum length of transaction password: 12\n",
        "\n",
        "Your program should accept a sequence of comma separated passwords and will check them according to the above criteria. Passwords that match the criteria are to be printed, each\n",
        "separated by a comma.\n",
        "\n",
        "Example\n",
        "\n",
        "If the following passwords are given as input to the program:\n",
        "\n",
        "ABd1234@1,a F1#,2w3E*,2We3345\n",
        "\n",
        "Then, the output of the program should be:\n",
        "\n",
        "ABd1234@1"
      ],
      "metadata": {
        "id": "xDTEY5-cNuph"
      }
    },
    {
      "cell_type": "code",
      "source": [
        "import re\n",
        "\n",
        "def is_valid_password(password):\n",
        "    # Check length requirements\n",
        "    if len(password) < 6 or len(password) > 12:\n",
        "        return False\n",
        "\n",
        "    # Check for at least one lowercase letter [a-z]\n",
        "    if not re.search(r'[a-z]', password):\n",
        "        return False\n",
        "\n",
        "    # Check for at least one uppercase letter [A-Z]\n",
        "    if not re.search(r'[A-Z]', password):\n",
        "        return False\n",
        "\n",
        "    # Check for at least one digit [0-9]\n",
        "    if not re.search(r'[0-9]', password):\n",
        "        return False\n",
        "\n",
        "    # Check for at least one special character [$#@]\n",
        "    if not re.search(r'[$#@]', password):\n",
        "        return False\n",
        "\n",
        "    return True\n",
        "\n",
        "# Get input from user\n",
        "passwords_input = input(\"Enter comma-separated passwords: \")\n",
        "\n",
        "# Split into individual passwords\n",
        "passwords = passwords_input.split(',')\n",
        "\n",
        "# Filter valid passwords\n",
        "valid_passwords = [pwd for pwd in passwords if is_valid_password(pwd)]\n",
        "\n",
        "# Print valid passwords as comma-separated string\n",
        "print(','.join(valid_passwords))"
      ],
      "metadata": {
        "colab": {
          "base_uri": "https://localhost:8080/"
        },
        "id": "m0qUM584OR_A",
        "outputId": "a9071dab-b29f-4fb5-ab4f-506400018380"
      },
      "execution_count": 7,
      "outputs": [
        {
          "output_type": "stream",
          "name": "stdout",
          "text": [
            "Enter comma-separated passwords: ABd1234@1,a F1#,2w3E*,2We3345 ABd1234@1\n",
            "ABd1234@1\n"
          ]
        }
      ]
    }
  ]
}